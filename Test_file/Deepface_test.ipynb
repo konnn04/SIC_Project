{
 "cells": [
  {
   "cell_type": "code",
   "execution_count": 6,
   "metadata": {},
   "outputs": [],
   "source": [
    "import os\n",
    "import cv2\n",
    "from deepface import DeepFace\n",
    "import tensorflow as tf\n",
    "import numpy"
   ]
  },
  {
   "cell_type": "code",
   "execution_count": null,
   "metadata": {},
   "outputs": [],
   "source": [
    "model = 'liveness.model'\n",
    "model = tf.keras.models.load_model(model)"
   ]
  },
  {
   "cell_type": "code",
   "execution_count": 4,
   "metadata": {},
   "outputs": [],
   "source": [
    "dataset_path = 'D:\\\\SIC\\\\Project\\\\SIC_Project\\\\Face recognition data\\\\NewData'"
   ]
  },
  {
   "cell_type": "markdown",
   "metadata": {},
   "source": [
    "Build model"
   ]
  },
  {
   "cell_type": "code",
   "execution_count": 5,
   "metadata": {},
   "outputs": [
    {
     "data": {
      "text/plain": [
       "<deepface.basemodels.Facenet.FaceNet128dClient at 0x223cc09ced0>"
      ]
     },
     "execution_count": 5,
     "metadata": {},
     "output_type": "execute_result"
    }
   ],
   "source": [
    "DeepFace.build_model(\"Facenet\")"
   ]
  },
  {
   "cell_type": "code",
   "execution_count": 8,
   "metadata": {},
   "outputs": [
    {
     "name": "stdout",
     "output_type": "stream",
     "text": [
      "24-07-18 21:53:45 - Found 644 newly added image(s), 0 removed image(s), 0 replaced image(s).\n"
     ]
    },
    {
     "name": "stderr",
     "output_type": "stream",
     "text": [
      "Finding representations: 100%|██████████| 644/644 [09:04<00:00,  1.18it/s]\n"
     ]
    },
    {
     "name": "stdout",
     "output_type": "stream",
     "text": [
      "24-07-18 22:02:50 - There are now 644 representations in ds_model_vggface_detector_opencv_aligned_normalization_base_expand_0.pkl\n",
      "24-07-18 22:02:50 - Searching [[[138 159 157]\n",
      "  [144 157 147]\n",
      "  [153 157 138]\n",
      "  ...\n",
      "  [ 55  53  60]\n",
      "  [ 52  52  52]\n",
      "  [ 56  56  55]]\n",
      "\n",
      " [[157 165 158]\n",
      "  [159 162 156]\n",
      "  [159 156 149]\n",
      "  ...\n",
      "  [ 50  54  53]\n",
      "  [ 44  51  50]\n",
      "  [ 48  55  55]]\n",
      "\n",
      " [[168 162 149]\n",
      "  [165 162 149]\n",
      "  [166 165 151]\n",
      "  ...\n",
      "  [ 49  56  58]\n",
      "  [ 47  54  54]\n",
      "  [ 53  60  59]]\n",
      "\n",
      " ...\n",
      "\n",
      " [[112 119 121]\n",
      "  [112 119 121]\n",
      "  [114 120 122]\n",
      "  ...\n",
      "  [ 89  96 108]\n",
      "  [ 92 100 115]\n",
      "  [ 92 100 115]]\n",
      "\n",
      " [[123 123 125]\n",
      "  [125 124 126]\n",
      "  [126 125 128]\n",
      "  ...\n",
      "  [ 95  97 111]\n",
      "  [ 88  92 103]\n",
      "  [ 88  92 103]]\n",
      "\n",
      " [[122 122 124]\n",
      "  [125 124 125]\n",
      "  [120 120 120]\n",
      "  ...\n",
      "  [ 97  98 114]\n",
      "  [ 90  91 107]\n",
      "  [ 90  91 107]]] in 644 length datastore\n",
      "24-07-18 22:02:53 - find function duration 548.7480227947235 seconds\n"
     ]
    },
    {
     "ename": "IndexError",
     "evalue": "list index out of range",
     "output_type": "error",
     "traceback": [
      "\u001b[1;31m---------------------------------------------------------------------------\u001b[0m",
      "\u001b[1;31mIndexError\u001b[0m                                Traceback (most recent call last)",
      "Cell \u001b[1;32mIn[8], line 13\u001b[0m\n\u001b[0;32m      9\u001b[0m res  \u001b[38;5;241m=\u001b[39m DeepFace\u001b[38;5;241m.\u001b[39mfind(frame, db_path\u001b[38;5;241m=\u001b[39m dataset_path, enforce_detection\u001b[38;5;241m=\u001b[39m\u001b[38;5;28;01mFalse\u001b[39;00m, model_name\u001b[38;5;241m=\u001b[39m\u001b[38;5;124m'\u001b[39m\u001b[38;5;124mVGG-Face\u001b[39m\u001b[38;5;124m'\u001b[39m)\n\u001b[0;32m     11\u001b[0m \u001b[38;5;28;01mif\u001b[39;00m \u001b[38;5;28mlen\u001b[39m(res[\u001b[38;5;241m0\u001b[39m][\u001b[38;5;124m'\u001b[39m\u001b[38;5;124midentity\u001b[39m\u001b[38;5;124m'\u001b[39m])\u001b[38;5;241m>\u001b[39m\u001b[38;5;241m0\u001b[39m:\n\u001b[1;32m---> 13\u001b[0m     name \u001b[38;5;241m=\u001b[39m \u001b[43mres\u001b[49m\u001b[43m[\u001b[49m\u001b[38;5;241;43m0\u001b[39;49m\u001b[43m]\u001b[49m\u001b[43m[\u001b[49m\u001b[38;5;124;43m'\u001b[39;49m\u001b[38;5;124;43midentity\u001b[39;49m\u001b[38;5;124;43m'\u001b[39;49m\u001b[43m]\u001b[49m\u001b[43m[\u001b[49m\u001b[38;5;241;43m0\u001b[39;49m\u001b[43m]\u001b[49m\u001b[38;5;241;43m.\u001b[39;49m\u001b[43msplit\u001b[49m\u001b[43m(\u001b[49m\u001b[38;5;124;43m'\u001b[39;49m\u001b[38;5;124;43m/\u001b[39;49m\u001b[38;5;124;43m'\u001b[39;49m\u001b[43m)\u001b[49m\u001b[43m[\u001b[49m\u001b[38;5;241;43m1\u001b[39;49m\u001b[43m]\u001b[49m\u001b[38;5;241m.\u001b[39msplit(\u001b[38;5;124m'\u001b[39m\u001b[38;5;130;01m\\\\\u001b[39;00m\u001b[38;5;124m'\u001b[39m)[\u001b[38;5;241m1\u001b[39m]\n\u001b[0;32m     14\u001b[0m     xmin \u001b[38;5;241m=\u001b[39m \u001b[38;5;28mint\u001b[39m(res[\u001b[38;5;241m0\u001b[39m][\u001b[38;5;124m'\u001b[39m\u001b[38;5;124msource_x\u001b[39m\u001b[38;5;124m'\u001b[39m][\u001b[38;5;241m0\u001b[39m])\n\u001b[0;32m     15\u001b[0m     ymin \u001b[38;5;241m=\u001b[39m \u001b[38;5;28mint\u001b[39m(res[\u001b[38;5;241m0\u001b[39m][\u001b[38;5;124m'\u001b[39m\u001b[38;5;124msource_y\u001b[39m\u001b[38;5;124m'\u001b[39m][\u001b[38;5;241m0\u001b[39m])\n",
      "\u001b[1;31mIndexError\u001b[0m: list index out of range"
     ]
    }
   ],
   "source": [
    "cap = cv2.VideoCapture(0)\n",
    "while True:\n",
    "    \n",
    "    state, frame = cap.read()\n",
    "    \n",
    "    if state!=True:\n",
    "        break\n",
    "        \n",
    "    res  = DeepFace.find(frame, db_path= dataset_path, enforce_detection=False, model_name='VGG-Face')\n",
    "    \n",
    "    if len(res[0]['identity'])>0:\n",
    "        \n",
    "        name = res[0]['identity'][0].split('/')[1].split('\\\\')[1]\n",
    "        xmin = int(res[0]['source_x'][0])\n",
    "        ymin = int(res[0]['source_y'][0])\n",
    "        \n",
    "        w = res[0]['source_w'][0]\n",
    "        h = res[0]['source_h'][0]\n",
    "        \n",
    "        xmax = int(xmin + w)\n",
    "        ymax = int(ymin + h)\n",
    "        \n",
    "        #liveness\n",
    "        \n",
    "        img = frame[ymin:ymax, xmin:xmax]\n",
    "        img = cv2.resize(img, (32,32))\n",
    "        img = img.astype('float')/255.0\n",
    "        img = tf.keras.preprocessing.image.img_to_array(img)\n",
    "        img = numpy.expand_dims(img, axis=0)\n",
    "        \n",
    "        # liveness = model.predict(img)\n",
    "        \n",
    "        # liveness = liveness[0].argmax()\n",
    "        \n",
    "        \n",
    "        \n",
    "        cv2.rectangle(frame, (xmin,ymin),(xmax,ymax), (0,255,0),1)\n",
    "        cv2.rectangle(frame, (xmin, ymin-25),(xmax, ymin),(255,255,255),-1)\n",
    "        cv2.putText(frame, name, (xmin,ymin), cv2.FONT_HERSHEY_SIMPLEX, 1, (255,0,0),2,cv2.LINE_AA)\n",
    "        \n",
    "        # if liveness==1:\n",
    "        #     cv2.putText(frame, \"real\", (xmin,ymax+25), cv2.FONT_HERSHEY_SIMPLEX, 1, (255,255,255),2, cv2.LINE_AA)\n",
    "        # else:\n",
    "        #     cv2.putText(frame, \"fake\", (xmin,ymax+25), cv2.FONT_HERSHEY_SIMPLEX, 1, (255,255,255),2, cv2.LINE_AA)\n",
    "    \n",
    "    cv2.imshow('attendance', frame)\n",
    "    \n",
    "    c = cv2.waitKey(1)\n",
    "    \n",
    "    if c == ord('q'):\n",
    "        break\n",
    "        \n",
    "cap.release()\n",
    "cv2.destroyAllWindows()"
   ]
  }
 ],
 "metadata": {
  "kernelspec": {
   "display_name": "cpp",
   "language": "python",
   "name": "python3"
  },
  "language_info": {
   "codemirror_mode": {
    "name": "ipython",
    "version": 3
   },
   "file_extension": ".py",
   "mimetype": "text/x-python",
   "name": "python",
   "nbconvert_exporter": "python",
   "pygments_lexer": "ipython3",
   "version": "3.11.4"
  }
 },
 "nbformat": 4,
 "nbformat_minor": 2
}
